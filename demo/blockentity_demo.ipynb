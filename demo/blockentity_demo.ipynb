{
  "nbformat": 4,
  "nbformat_minor": 0,
  "metadata": {
    "colab": {
      "provenance": [],
      "authorship_tag": "ABX9TyMsfIzoi0K7Mz0g6eg2j9ls",
      "include_colab_link": true
    },
    "kernelspec": {
      "name": "python3",
      "display_name": "Python 3"
    },
    "language_info": {
      "name": "python"
    }
  },
  "cells": [
    {
      "cell_type": "markdown",
      "metadata": {
        "id": "view-in-github",
        "colab_type": "text"
      },
      "source": [
        "<a href=\"https://colab.research.google.com/github/obscraft23/pybedrock/blob/main/demo/blockentity_demo.ipynb\" target=\"_parent\"><img src=\"https://colab.research.google.com/assets/colab-badge.svg\" alt=\"Open In Colab\"/></a>"
      ]
    },
    {
      "cell_type": "markdown",
      "source": [
        "**TL;DL**\n",
        "\n",
        "This notebook is a demonstration of pybedrock.\n",
        "Here you can create a flat mincraft world with a custom mob spawner from JSON files.\n",
        "\n",
        "* author: obscraft23<br>\n",
        "https://github.com/obscraft23\n",
        "\n",
        "* pybedrock github page<br>\n",
        "https://github.com/obscraft23/pybedrock\n",
        "\n",
        "\n",
        "**Reference**\n",
        "\n",
        "* How to make a custom spawner (Japanese)<br>\n",
        "https://www.youtube.com/watch?v=ZbRscTGPVA0"
      ],
      "metadata": {
        "id": "nfMoFS3EyCoq"
      }
    },
    {
      "cell_type": "markdown",
      "source": [
        "Install pybedrock"
      ],
      "metadata": {
        "id": "Ozxc9MAUvngz"
      }
    },
    {
      "cell_type": "code",
      "execution_count": null,
      "metadata": {
        "id": "k09YAZw3DX52"
      },
      "outputs": [],
      "source": [
        "!pip install pybedrock"
      ]
    },
    {
      "cell_type": "markdown",
      "source": [
        "Download template json files."
      ],
      "metadata": {
        "id": "RPz_t092vtaq"
      }
    },
    {
      "cell_type": "code",
      "source": [
        "%cd /content\n",
        "%rm -rf test\n",
        "%mkdir -p test\n",
        "%cd test\n",
        "\n",
        "!wget -q \"https://drive.google.com/uc?export=download&id=1fC1s6vOwoM8XzLEfEQl8q52Bm4NdiZ7c\" -O custom.spawner.json\n",
        "!wget -q \"https://drive.google.com/uc?export=download&id=11hE1QqYihUAirrWejJkWRNn_EeXTgPZi\" -O subchunk.nbt.json\n",
        "!wget -q \"https://drive.google.com/uc?export=download&id=1ADIHaBlnOUcC06Jjl0gp5eFPlmU2ohAw\" -O level.dat.json"
      ],
      "metadata": {
        "colab": {
          "base_uri": "https://localhost:8080/"
        },
        "id": "sKc1p4KmDlzT",
        "outputId": "914b45c7-4e4b-4771-f543-6558383e1a40"
      },
      "execution_count": null,
      "outputs": [
        {
          "output_type": "stream",
          "name": "stdout",
          "text": [
            "/content\n",
            "/content/test\n"
          ]
        }
      ]
    },
    {
      "cell_type": "markdown",
      "source": [
        "import libraries"
      ],
      "metadata": {
        "id": "8Qpcht7ov0mr"
      }
    },
    {
      "cell_type": "code",
      "source": [
        "import pybedrock as pb\n",
        "import random,string\n",
        "import numpy as np\n",
        "import copy\n",
        "import json\n",
        "import os\n",
        "from google.colab import files"
      ],
      "metadata": {
        "id": "is_YEDY2DgfM"
      },
      "execution_count": null,
      "outputs": []
    },
    {
      "cell_type": "markdown",
      "source": [
        "Define randomname generator"
      ],
      "metadata": {
        "id": "jnOxaDnJv4jq"
      }
    },
    {
      "cell_type": "code",
      "source": [
        "def randomname(n):\n",
        "   randlst = [random.choice(string.ascii_letters + string.digits) for i in range(n)]\n",
        "   return ''.join(randlst)"
      ],
      "metadata": {
        "id": "U-Q6xCJZSeWc"
      },
      "execution_count": null,
      "outputs": []
    },
    {
      "cell_type": "markdown",
      "source": [
        "Create a new world directory"
      ],
      "metadata": {
        "id": "9g5LeojtwDx7"
      }
    },
    {
      "cell_type": "code",
      "source": [
        "worldfname = randomname(12)\n",
        "os.system(\"mkdir -p \"+worldfname)\n",
        "os.system(\"mkdir -p \"+worldfname+\"/db\")\n",
        "os.system(\"mkdir -p \"+worldfname+\"/resource_packs\")\n",
        "os.system(\"mkdir -p \"+worldfname+\"/behavior_packs\")"
      ],
      "metadata": {
        "colab": {
          "base_uri": "https://localhost:8080/"
        },
        "id": "KREqLhqFMi3D",
        "outputId": "4d3e92f3-b045-4b54-a9f8-d902d1a481c0"
      },
      "execution_count": null,
      "outputs": [
        {
          "output_type": "execute_result",
          "data": {
            "text/plain": [
              "0"
            ]
          },
          "metadata": {},
          "execution_count": 6
        }
      ]
    },
    {
      "cell_type": "markdown",
      "source": [
        "Load json files"
      ],
      "metadata": {
        "id": "ZZN1CuRVwGFb"
      }
    },
    {
      "cell_type": "code",
      "source": [
        "with open(\"custom.spawner.json\", mode=\"rt\", encoding=\"utf-8\") as f:\n",
        "\tcspawner = json.load(f)\n",
        "\n",
        "with open(\"subchunk.nbt.json\", mode=\"rt\", encoding=\"utf-8\") as f:\n",
        "\tschunk = json.load(f)\n",
        "\n",
        "with open(\"level.dat.json\", mode=\"rt\", encoding=\"utf-8\") as f:\n",
        "\tlevel = json.load(f)"
      ],
      "metadata": {
        "id": "ufoq8RGIc728"
      },
      "execution_count": null,
      "outputs": []
    },
    {
      "cell_type": "markdown",
      "source": [
        "Show block entity json file as a dict<br>\n",
        "(Pig, cow, and sheep will spwan with equal weight.)"
      ],
      "metadata": {
        "id": "DtNqge8kwI-c"
      }
    },
    {
      "cell_type": "code",
      "source": [
        "cspawner"
      ],
      "metadata": {
        "colab": {
          "base_uri": "https://localhost:8080/"
        },
        "id": "QJvRyWHtwRLD",
        "outputId": "1a4ef300-b13c-4aa9-bc7b-6ecfdfb69c54"
      },
      "execution_count": null,
      "outputs": [
        {
          "output_type": "execute_result",
          "data": {
            "text/plain": [
              "[{'type': 'Compound',\n",
              "  'value': {'Delay': {'type': 'Short', 'value': 277},\n",
              "   'DisplayEntityHeight': {'type': 'Float', 'value': 3.6},\n",
              "   'DisplayEntityScale': {'type': 'Float', 'value': 1.0},\n",
              "   'DisplayEntityWidth': {'type': 'Float', 'value': 1.6},\n",
              "   'EntityIdentifier': {'type': 'String', 'value': 'minecraft:zombie'},\n",
              "   'MaxNearbyEntities': {'type': 'Short', 'value': 6},\n",
              "   'MaxSpawnDelay': {'type': 'Short', 'value': 800},\n",
              "   'MinSpawnDelay': {'type': 'Short', 'value': 200},\n",
              "   'RequiredPlayerRange': {'type': 'Short', 'value': 16},\n",
              "   'SpawnCount': {'type': 'Short', 'value': 4},\n",
              "   'SpawnRange': {'type': 'Short', 'value': 4},\n",
              "   'id': {'type': 'String', 'value': 'MobSpawner'},\n",
              "   'isMovable': {'type': 'Byte', 'value': 1},\n",
              "   'x': {'type': 'Int', 'value': 2},\n",
              "   'y': {'type': 'Int', 'value': -60},\n",
              "   'z': {'type': 'Int', 'value': 0},\n",
              "   'SpawnPotentials': {'type': 'List',\n",
              "    'value': {'type_List': 'Compound',\n",
              "     'value_List': [{'Properties': {'type': 'Compound', 'value': {}},\n",
              "       'Weight': {'type': 'Int', 'value': 1},\n",
              "       'TypeId': {'type': 'String', 'value': 'minecraft:cow'}},\n",
              "      {'Properties': {'type': 'Compound', 'value': {}},\n",
              "       'Weight': {'type': 'Int', 'value': 1},\n",
              "       'TypeId': {'type': 'String', 'value': 'minecraft:pig'}},\n",
              "      {'Properties': {'type': 'Compound', 'value': {}},\n",
              "       'Weight': {'type': 'Int', 'value': 1},\n",
              "       'TypeId': {'type': 'String', 'value': 'minecraft:sheep'}}]}},\n",
              "   'SpawnData': {'type': 'Compound',\n",
              "    'value': {'Properties': {'type': 'Compound', 'value': {}},\n",
              "     'Weight': {'type': 'Int', 'value': 1},\n",
              "     'TypeId': {'type': 'String', 'value': 'minecraft:cow'}}}}}]"
            ]
          },
          "metadata": {},
          "execution_count": 8
        }
      ]
    },
    {
      "cell_type": "markdown",
      "source": [
        "Make a subchunk data to which the spawner is put"
      ],
      "metadata": {
        "id": "17WJyXk4wTZ7"
      }
    },
    {
      "cell_type": "code",
      "source": [
        "sc = np.zeros([16,16,16],dtype=\"int\")\n",
        "sc.fill(3)\n",
        "sc[0] = 0\n",
        "sc[1] = 1\n",
        "sc[2] = 1\n",
        "sc[3] = 2\n",
        "sc[4][0][2] = 4\n",
        "\n",
        "# 0->bedrock, 1->dirt, 2->grass, 3->air, 4-> mob spawner\n",
        "# sc[4][0][2] means y=4,z=0,x=2 in the subchunk\n",
        "# The target subchink is (0,0,-4), so the mob spawner is put to (2,60,0).\n",
        "\n",
        "palette = pb.writeSubchunk(sc.tolist(),3,252)"
      ],
      "metadata": {
        "id": "hKQaCFhYmXxq"
      },
      "execution_count": null,
      "outputs": []
    },
    {
      "cell_type": "markdown",
      "source": [
        "Convert json files to binaries, and write them into world data."
      ],
      "metadata": {
        "id": "0G6J4Jr7xHLq"
      }
    },
    {
      "cell_type": "code",
      "source": [
        "bin_schunk = pb.writeNBT(schunk)\n",
        "bin_cspawner = pb.writeNBT(cspawner)\n",
        "pb.writebinary(worldfname,'@0:0:0:47#-4',palette+bin_schunk)\n",
        "pb.writebinary(worldfname,'@0:0:0:49',bin_cspawner)\n",
        "pb.writebinary(worldfname,'@0:0:0:44',(0x28).to_bytes(1,byteorder=\"little\"))"
      ],
      "metadata": {
        "colab": {
          "base_uri": "https://localhost:8080/"
        },
        "id": "WUu85EpSdUj8",
        "outputId": "aeabb2ad-2745-42a0-93e3-2995a3eecf79"
      },
      "execution_count": null,
      "outputs": [
        {
          "output_type": "execute_result",
          "data": {
            "text/plain": [
              "0"
            ]
          },
          "metadata": {},
          "execution_count": 10
        }
      ]
    },
    {
      "cell_type": "markdown",
      "source": [
        "Show the current keys of the newly created world."
      ],
      "metadata": {
        "id": "2diXdoiTxeF1"
      }
    },
    {
      "cell_type": "code",
      "source": [
        "pb.listkeys(worldfname)"
      ],
      "metadata": {
        "colab": {
          "base_uri": "https://localhost:8080/"
        },
        "id": "ohT4JAQjmaMa",
        "outputId": "ffa2b2ee-1451-4312-9a77-81708527e6db"
      },
      "execution_count": null,
      "outputs": [
        {
          "output_type": "execute_result",
          "data": {
            "text/plain": [
              "[['@0:0:0:44', 1, 0, 0, 0, 44, -8, 1],\n",
              " ['@0:0:0:47#-4', 1951, 0, 0, 0, 47, -4, 1],\n",
              " ['@0:0:0:49', 538, 0, 0, 0, 49, -8, 1]]"
            ]
          },
          "metadata": {},
          "execution_count": 11
        }
      ]
    },
    {
      "cell_type": "markdown",
      "source": [
        "Create levelname.txt"
      ],
      "metadata": {
        "id": "bRsX_rRnxnar"
      }
    },
    {
      "cell_type": "code",
      "source": [
        "with open(worldfname+\"/levelname.txt\",\"wt\") as f:\n",
        "  f.write(\"pybedroc demo\")"
      ],
      "metadata": {
        "id": "BPj9zdLoOyzL"
      },
      "execution_count": null,
      "outputs": []
    },
    {
      "cell_type": "markdown",
      "source": [
        "Create level.dat"
      ],
      "metadata": {
        "id": "OiYRMngSxtdb"
      }
    },
    {
      "cell_type": "code",
      "source": [
        "levelheader = b'\\n\\x00\\x00\\x00\\xe2\\t\\x00\\x00'\n",
        "bin_level = levelheader + pb.writeNBT(level)\n",
        "\n",
        "with open(worldfname+\"/level.dat\",\"wb\") as f:\n",
        "  f.write(bin_level)"
      ],
      "metadata": {
        "id": "kw3hawO3g0n6"
      },
      "execution_count": null,
      "outputs": []
    },
    {
      "cell_type": "markdown",
      "source": [
        "Make a mcworld file"
      ],
      "metadata": {
        "id": "zA6YvMV4x0vL"
      }
    },
    {
      "cell_type": "code",
      "source": [
        "os.system(\"rm -rf \"+worldfname+\".zip\")\n",
        "os.chdir(worldfname)\n",
        "os.system(\"zip -r ../\"+worldfname+\".zip \"+\"*\")\n",
        "os.chdir(\"../\")\n",
        "os.system(\"cp -r \"+worldfname+\".zip \"+worldfname+\".mcworld\")"
      ],
      "metadata": {
        "colab": {
          "base_uri": "https://localhost:8080/"
        },
        "id": "jYE_3JP1V2By",
        "outputId": "57397184-ec93-4653-b056-62e62c46e583"
      },
      "execution_count": null,
      "outputs": [
        {
          "output_type": "execute_result",
          "data": {
            "text/plain": [
              "0"
            ]
          },
          "metadata": {},
          "execution_count": 14
        }
      ]
    },
    {
      "cell_type": "markdown",
      "source": [
        "Download the world as a .mcworld"
      ],
      "metadata": {
        "id": "8JLyc3ckz1J7"
      }
    },
    {
      "cell_type": "code",
      "source": [
        "files.download(worldfname+\".mcworld\")"
      ],
      "metadata": {
        "colab": {
          "base_uri": "https://localhost:8080/",
          "height": 17
        },
        "id": "XLA4pLa3ztXD",
        "outputId": "eb1e7ae2-840d-4a1b-9b93-0feb26e34843"
      },
      "execution_count": null,
      "outputs": [
        {
          "output_type": "display_data",
          "data": {
            "text/plain": [
              "<IPython.core.display.Javascript object>"
            ],
            "application/javascript": [
              "\n",
              "    async function download(id, filename, size) {\n",
              "      if (!google.colab.kernel.accessAllowed) {\n",
              "        return;\n",
              "      }\n",
              "      const div = document.createElement('div');\n",
              "      const label = document.createElement('label');\n",
              "      label.textContent = `Downloading \"${filename}\": `;\n",
              "      div.appendChild(label);\n",
              "      const progress = document.createElement('progress');\n",
              "      progress.max = size;\n",
              "      div.appendChild(progress);\n",
              "      document.body.appendChild(div);\n",
              "\n",
              "      const buffers = [];\n",
              "      let downloaded = 0;\n",
              "\n",
              "      const channel = await google.colab.kernel.comms.open(id);\n",
              "      // Send a message to notify the kernel that we're ready.\n",
              "      channel.send({})\n",
              "\n",
              "      for await (const message of channel.messages) {\n",
              "        // Send a message to notify the kernel that we're ready.\n",
              "        channel.send({})\n",
              "        if (message.buffers) {\n",
              "          for (const buffer of message.buffers) {\n",
              "            buffers.push(buffer);\n",
              "            downloaded += buffer.byteLength;\n",
              "            progress.value = downloaded;\n",
              "          }\n",
              "        }\n",
              "      }\n",
              "      const blob = new Blob(buffers, {type: 'application/binary'});\n",
              "      const a = document.createElement('a');\n",
              "      a.href = window.URL.createObjectURL(blob);\n",
              "      a.download = filename;\n",
              "      div.appendChild(a);\n",
              "      a.click();\n",
              "      div.remove();\n",
              "    }\n",
              "  "
            ]
          },
          "metadata": {}
        },
        {
          "output_type": "display_data",
          "data": {
            "text/plain": [
              "<IPython.core.display.Javascript object>"
            ],
            "application/javascript": [
              "download(\"download_d1c53df7-ee58-4125-958a-9c8dd518b3f3\", \"MDgF5VXho8Ga.mcworld\", 4238)"
            ]
          },
          "metadata": {}
        }
      ]
    }
  ]
}